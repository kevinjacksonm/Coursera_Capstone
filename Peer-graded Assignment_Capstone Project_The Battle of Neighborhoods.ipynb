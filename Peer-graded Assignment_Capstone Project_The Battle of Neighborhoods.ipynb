{
 "cells": [
  {
   "cell_type": "markdown",
   "id": "62941b43-6180-4f78-ad16-acaef7604d3f",
   "metadata": {},
   "source": [
    "## Peer-graded Assignment: Capstone Project - The Battle of Neighborhoods (Week 1)\n"
   ]
  },
  {
   "cell_type": "markdown",
   "id": "faf64c5e-2743-4179-ba2b-348227f0a0c6",
   "metadata": {},
   "source": [
    "### The problem:\n",
    "Food trucks are a popular form of quick dining. They offer consumers new types of food, and convenient access to food. Additionally they are a popular method for professional chefs to try out new food concepts or launch their own careers. \n",
    "\n",
    "However a challenging part of this business model may be finding a suitable location to park and serve from your food truck.\n",
    "\n",
    "You would want to avoid other fast casual businesses and restaurants, and target certain other nearby businesses to attract the clientele you would like to serve. \n",
    "\n",
    "For daytime service you would probably like to be close to shopping areas, while at night time you may target theaters, bars or other night establishments.\n"
   ]
  },
  {
   "cell_type": "markdown",
   "id": "75353c89-c8a2-468d-b446-8d23deffbbb0",
   "metadata": {},
   "source": [
    "### Data Driven Solution:"
   ]
  },
  {
   "cell_type": "markdown",
   "id": "0a8840fc-cfe6-47d4-a4cd-0be1a149f782",
   "metadata": {},
   "source": [
    "Using the foursquare api data we can filter establishments and venues that fit our criteria and recommend neighborhoods where customers might be present.\n",
    "\n",
    "The tool filters venues based on their tags, separating into two groups, daytime and nighttime.\n",
    "\n",
    "Based upon these filters we can then cluster them and recommend neighborhoods where a higher number of appropriate customers might be present. "
   ]
  }
 ],
 "metadata": {
  "kernelspec": {
   "display_name": "Python",
   "language": "python",
   "name": "conda-env-python-py"
  },
  "language_info": {
   "codemirror_mode": {
    "name": "ipython",
    "version": 3
   },
   "file_extension": ".py",
   "mimetype": "text/x-python",
   "name": "python",
   "nbconvert_exporter": "python",
   "pygments_lexer": "ipython3",
   "version": "3.6.13"
  }
 },
 "nbformat": 4,
 "nbformat_minor": 5
}
